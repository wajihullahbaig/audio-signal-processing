


import librosa
import librosa.display
import IPython.display as ipd
import scipy as sp
import numpy as np
import matplotlib.pyplot as plt


audio_path = "audio-data/instruments/piano_c.wav"
ipd.Audio(audio_path)


signal,sr = librosa.load(audio_path)



print(sr)


print(len(signal))


# plot the waveform
plt.figure(figsize=(10,8))
librosa.display.waveshow(signal,sr=sr,alpha=0.3)
plt.show()


# derive spectrum using FFT
ft = sp.fft.fft(signal)
magnitude = np.absolute(ft)
frequency = np.linspace(0,sr,len(magnitude))


# plot the spectrum
plt.figure(figsize=(10,8))
plt.plot(frequency[:5000],magnitude[:5000])
plt.xlabel('Frequency (Hz)')
plt.ylabel('Magnitude')
plt.show()


# duration of each sample
d = 1/sr
print(d)


# Lets find the cycle for the fundamental frequency
d_523 = 1/523 # 523 is the fundamental frequency
print("Seconds : ",d_523) 


# Lets zoom into the samples
d_400_samples = 400*d
print("Seconds:",d_400_samples)


# Zooming into the waveform
samples = range(len(signal))
t = librosa.samples_to_time(samples,sr=sr)

plt.figure(figsize=(10,8))
plt.plot(t[10000:10400],signal[10000:10400])
plt.xlabel("Time (s)")
plt.ylable("Amplitude")
plt.show()



