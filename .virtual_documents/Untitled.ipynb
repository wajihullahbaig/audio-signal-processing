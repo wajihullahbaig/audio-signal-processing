


import librosa
import librosa.display
import IPython.display as ipd
import matplotlib.pyplot as plt


scale_file = "audio-data/audio/scale.wav"


ipd.Audio(scale_file)


scale_wav , sr = librosa.load(scale_file)


sr





mfccs = librosa.feature.mfcc(y=scale_wav,n_mfcc=13,sr=sr)


mfccs.shape


plt.figure(figsize=(25,10))
librosa.display.specshow(mfccs,sr=sr,x_axis='time')
plt.colorbar(format="%+2.f")
plt.show()





delta_mfcc = librosa.feature.delta(mfccs)
delta2_mfcc = librosa.feature.delta(mfccs,order=2)


delta_mfcc.shape



delta2_mfcc.shape


plt.figure(figsize=(25,10))
librosa.display.specshow(delta_mfcc,sr=sr,x_axis='time')
plt.colorbar(format="%+2.f")
plt.show()


plt.figure(figsize=(25,10))
librosa.display.specshow(delta2_mfcc,sr=sr,x_axis='time')
plt.colorbar(format="%+2.f")
plt.show()



