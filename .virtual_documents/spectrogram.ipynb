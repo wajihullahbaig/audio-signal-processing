import os
import librosa
import librosa.display
import numpy as np
import matplotlib.pyplot as plt
import IPython.display as idp


debussy_file = "audio-data/audio/debussy.wav"
duke_file = "audio-data/audio/duke.wav"
redhot_file = "audio-data/audio/redhot.wav"
scale_file = "audio-data/audio/scale.wav"


idp.Audio(debussy_file)


idp.Audio(duke_file)


idp.Audio(redhot_file)





debussy_wav, sr = librosa.load(debussy_file)
duke_wav, _ = librosa.load(duke_file)
redhot_wav, _ = librosa.load(redhot_file)
scale_wav, sr = librosa.load(scale_file)





frame_size = 2040
hop_size = 512



scale_stft = librosa.stft(scale_wav,n_fft=frame_size,hop_length=hop_size)


scale_stft.shape





scale_spectrogram = np.abs(scale_stft) ** 2





def plot_spectrogram(Y,sr,hop_length,y_axis='linear'):
    plt.figure(figsize=(25,10))
    librosa.display.specshow(Y,sr=sr,hop_length=hop_length,x_axis='time',y_axis=y_axis)
    plt.colorbar(format="%+2.f")


plot_spectrogram(scale_spectrogram,sr,hop_size)





# Since we cant see much we have to make a transformation so 
# that we can perceive the spectrogram
scale_log_spectrogram = librosa.power_to_db(scale_spectrogram)
plot_spectrogram(scale_log_spectrogram,sr,hop_size)





# Since we cant see much we have to make a transformation so 
# that we can perceive the spectrogram
scale_log_spectrogram = librosa.power_to_db(scale_spectrogram)
plot_spectrogram(scale_log_spectrogram,sr,hop_size, y_axis='log')



