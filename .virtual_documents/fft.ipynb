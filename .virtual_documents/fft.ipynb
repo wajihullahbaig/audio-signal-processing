


import librosa
import librosa.display
import IPython.display as ipd
import scipy as sp
import numpy as np
import matplotlib.pyplot as plt


audio_path = "audio-data/instruments/piano_c.wav"
ipd.Audio(audio_path)


signal,sr = librosa.load(audio_path)



print(sr)


print(len(signal))


# plot the waveform
plt.figure(figsize=(10,8))
librosa.display.waveshow(signal,sr=sr,alpha=0.3)
plt.show()


# derive spectrum using FFT
ft = sp.fft.fft(signal)
magnitude = np.absolute(ft)
frequency = np.linspace(0,sr,len(magnitude))


# plot the spectrum
plt.figure(figsize=(10,8))
plt.plot(frequency[:5000],magnitude[:5000])
plt.xlabel('Frequency (Hz)')
plt.ylabel('Magnitude')
plt.show()


# duration of each sample
d = 1/sr
print(d)


# Lets find the cycle for the fundamental frequency
d_523 = 1/523 # 523 is the fundamental frequency
print("Seconds : ",d_523) 


# Lets zoom into the samples
d_400_samples = 400*d
print("Seconds:",d_400_samples)


# Zooming into the waveform
samples = range(len(signal))
t = librosa.samples_to_time(samples,sr=sr)

plt.figure(figsize=(8,6))
plt.plot(t[10000:10400],signal[10000:10400])
plt.xlabel("Time (s)")
plt.ylabel("Amplitude")
plt.show()





# Create a sinusoid
f = 523
phase = 0
sin = 0.5 * np.sin(2*np.pi * (f*t-phase))
plt.figure(figsize=(8,6))
plt.plot(t[10000:10400],sin[10000:10400],color='r')
plt.xlabel('Time (s)')
plt.ylabel('Amplitude')
plt.show()


# Compare signal and sinusoids
f = 523
phase = 0.55
sin = 0.1 * np.sin(2*np.pi * (f*t-phase))
plt.figure(figsize=(8,6))
plt.plot(t[10000:10400],signal[10000:10400],color='r')
plt.plot(t[10000:10400],sin[10000:10400],color='b')
# fill  gaps
plt.fill_between(t[10000:10400],sin[10000:10400]*signal[10000:10400],color = 'y')
plt.xlabel('Time (s)')
plt.ylabel('Amplitude')
plt.show()


# The yellow area shows how much similarty or dissimilarty there is



