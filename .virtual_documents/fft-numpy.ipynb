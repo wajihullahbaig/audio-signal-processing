


import numpy as np
import matplotlib.pyplot as plt
import os
import librosa
import IPython.display as ipd


dir= "audio-data/instruments/"
violin_file = "violin_c.wav"
tremolo_file = "tremolo.wav"
piano_file = "piano_c.wav"


ipd.Audio(os.path.join(dir,violin_file))


ipd.Audio(os.path.join(dir,tremolo_file))


ipd.Audio(os.path.join(dir,piano_file))


violin_wav,sr = librosa.load(os.path.join(dir,violin_file))
tremolo_file,sr = librosa.load(os.path.join(dir,tremolo_file))
piano_file,sr = librosa.load(os.path.join(dir,piano_file))



# Lets extract the fourier transform coefficients


violin_ft = np.fft.fft(violin_wav)


print(violin_ft.shape)


violin_ft[0]


magnitude_spectrum_violin = np.abs(violin_ft)


magnitude_spectrum_violin[0]


def plot_magnitude_spectrum(signal,title,sr, freq_ratio = 1):
    ft = np.fft.fft(signal)
    magnitude_spectrum = np.abs(ft)
    # plot magnitude spectrum
    plt.figure(figsize=(10,5))
    # create bins as many as the length of the magnitude spectrum
    freq_bins = np.linspace(0,sr, len(magnitude_spectrum))
    num_freq_bins = int(len(freq_bins) * freq_ratio)
    plt.plot(freq_bins[:num_freq_bins],magnitude_spectrum[:num_freq_bins])
    plt.xlabel("Frequency (Hz)")
    plt.title("title")
    plt.show()


plot_magnitude_spectrum(violin_wav,'violin',sr,0.5)


plot_magnitude_spectrum(tremolo_file,'tremolo',sr,0.05)


plot_magnitude_spectrum(tremolo_file,'piano',sr,0.05)



