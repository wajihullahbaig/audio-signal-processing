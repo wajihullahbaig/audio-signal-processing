


import matplotlib.pyplot as plt
import librosa
import IPython.display as idp
import numpy as np


debussy_file = "audio-data/audio/debussy.wav"
duke_file = "audio-data/audio/duke.wav"
redhot_file = "audio-data/audio/redhot.wav"


idp.Audio(debussy_file)


idp.Audio(duke_file)


idp.Audio(redhot_file)





debussy_wav,sr = librosa.load(debussy_file)
print(f" Sampling rate {sr}, total samples {debussy_wav.size}")


# Durations
sample_duration = 1/sr
print(f"Duration of sample is: {sample_duration:.6} seconds")
#Duration of signal
print(f"Duration of signal is {sample_duration * len(debussy_wav)} seconds")


duke_wav,sr = librosa.load(duke_file)
print(f" Sampling rate {sr}, total samples {duke_wav.size}")


# Duration
sample_duration = 1/sr
print(f"Duration of sample is: {sample_duration:.6} seconds")
#Duration of signal
print(f"Duration of signal is {sample_duration * len(debussy_wav)} seconds")


redhot_wav,sr = librosa.load(redhot_file)





plt.figure(figsize=(15,17))
plt.subplot(3,1,1)
librosa.display.waveshow(debussy_wav,color='r',alpha=0.5)
plt.title("Debussy wave form")
plt.ylim((-1,1))

plt.subplot(3,1,2)
librosa.display.waveshow(duke_wav,alpha=0.5,color='g')
plt.title("Duke wave form")
plt.ylim((-1,1))

plt.subplot(3,1,3)
librosa.display.waveshow(redhot_wav,alpha=0.5,color='b')
plt.title("Redhot wave form")
plt.ylim((-1,1))





frame_size = 1024
hop_length = 512
debussy_rms = librosa.feature.rms(y= debussy_wav,frame_length=frame_size,hop_length=hop_length)
duke_rms = librosa.feature.rms(y= duke_wav,frame_length=frame_size,hop_length=hop_length)
redhot_rms = librosa.feature.rms(y= redhot_wav,frame_length=frame_size,hop_length=hop_length)


print(debussy_rms.shape)
print(duke_rms.shape)
print(redhot_rms.shape)

# Lets sequeeze the rms outputs to get to the next step for visualization
debussy_rms = np.squeeze(debussy_rms)
duke_rms = np.squeeze(duke_rms)
redhot_rms = np.squeeze(redhot_rms)

print(debussy_rms.shape)
print(duke_rms.shape)
print(redhot_rms.shape)



# We need to get the time 
frames = range(0,len(debussy_rms))
t = librosa.frames_to_time(frames,hop_length=hop_length)
plt.figure(figsize=(15,17))
plt.subplot(3,1,1)
librosa.display.waveshow(debussy_wav,alpha=0.5,color='r')
plt.plot(t,debussy_rms,color='black')
plt.title("Debussy")
plt.ylim((-1,1))

plt.subplot(3,1,2)
librosa.display.waveshow(duke_wav,alpha=0.5,color='g')
plt.plot(t,duke_rms,color='black')
plt.title("Duke")
plt.ylim((-1,1))

plt.subplot(3,1,3)
librosa.display.waveshow(redhot_wav,alpha=0.5,color='b')
plt.plot(t,redhot_rms,color='black')
plt.title("Redhot")
plt.ylim((-1,1))





debussy_zcr = librosa.feature.zero_crossing_rate(y= debussy_wav,frame_length=frame_size,hop_length=hop_length)[0]
duke_zcr = librosa.feature.zero_crossing_rate(y= duke_wav,frame_length=frame_size,hop_length=hop_length)[0]
redhot_zcr = librosa.feature.zero_crossing_rate(y= redhot_wav,frame_length=frame_size,hop_length=hop_length)[0]


# We need to get the time 
frames = range(0,len(debussy_rms))
t = librosa.frames_to_time(frames,hop_length=hop_length)
plt.figure(figsize=(15,17))
plt.subplot(3,1,1)
librosa.display.waveshow(debussy_wav,alpha=0.5,color='r')
plt.plot(t,debussy_zcr,color='black')
plt.title("Debussy")
plt.ylim((-1,1))

plt.subplot(3,1,2)
librosa.display.waveshow(duke_wav,alpha=0.5,color='g')
plt.plot(t,duke_zcr,color='black')
plt.title("Duke")
plt.ylim((-1,1))

plt.subplot(3,1,3)
librosa.display.waveshow(redhot_wav,alpha=0.5,color='b')
plt.plot(t,redhot_zcr,color='black')
plt.title("Redhot")
plt.ylim((-1,1))


# Plot all the ZCR

plt.figure(figsize=(15,17))
plt.subplot(3,1,1)
plt.plot(t,debussy_zcr,color='r')
plt.title("Debussy")
plt.ylim((-1,1))

plt.subplot(3,1,2)
plt.plot(t,duke_zcr,color='g')
plt.title("Duke")
plt.ylim((-1,1))

plt.subplot(3,1,3)
plt.plot(t,redhot_zcr,color='b')
plt.title("Redhot")
plt.ylim((-1,1))



