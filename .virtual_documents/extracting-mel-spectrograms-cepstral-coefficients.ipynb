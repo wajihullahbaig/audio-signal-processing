


import librosa
import librosa.display
import IPython.display as ipd
import matplotlib.pyplot as plt


scale_file = "audio-data/audio/scale.wav"


ipd.Audio(scale_file)


scale_wav , sr = librosa.load(scale_file)


sr





filter_banks = librosa.filters.mel(n_fft=2048,sr=sr,n_mels = 10)


filter_banks.shape


plt.figure(figsize=(25,10))
librosa.display.specshow(filter_banks,sr=sr,x_axis='linear')
plt.colorbar(format="%+2.f")
plt.show()





mel_spectrogram = librosa.feature.melspectrogram(y=scale_wav,sr=sr,n_fft=2048,hop_length=512,n_mels=90)


mel_spectrogram.shape


log_mel_spectrogram = librosa.power_to_db(mel_spectrogram)


log_mel_spectrogram.shape


plt.figure(figsize=(25,10))
librosa.display.specshow(log_mel_spectrogram,sr=sr,x_axis='time',y_axis='mel')
plt.colorbar(format="%+2.f")
plt.show()



