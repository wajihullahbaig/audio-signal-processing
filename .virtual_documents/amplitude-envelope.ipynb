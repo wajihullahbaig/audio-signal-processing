import matplotlib.pyplot as plt
import librosa
import IPython.display as idp
import numpy as np


debussy_file = "audio-data/audio/debussy.wav"
duke_file = "audio-data/audio/duke.wav"
redhot_file = "audio-data/audio/redhot.wav"


idp.Audio(debussy_file)


idp.Audio(duke_file)


idp.Audio(redhot_file)





debussy_wav,sr = librosa.load(debussy_file)
print(f" Sampling rate {sr}, total samples {debussy_wav.size}")


# Durations
sample_duration = 1/sr
print(f"Duration of sample is: {sample_duration:.6} seconds")
#Duration of signal
print(f"Duration of signal is {sample_duration * len(debussy_wav)} seconds")


duke_wav,sr = librosa.load(duke_file)
print(f" Sampling rate {sr}, total samples {duke_wav.size}")


# Duration
sample_duration = 1/sr
print(f"Duration of sample is: {sample_duration:.6} seconds")
#Duration of signal
print(f"Duration of signal is {sample_duration * len(debussy_wav)} seconds")


redhot_wav,sr = librosa.load(redhot_file)





plt.figure(figsize=(15,17))
plt.subplot(3,1,1)
librosa.display.waveshow(debussy_wav,color='r',alpha=0.5)
plt.title("Debussy wave form")
plt.ylim((-1,1))

plt.subplot(3,1,2)
librosa.display.waveshow(duke_wav,alpha=0.5,color='g')
plt.title("Duke wave form")
plt.ylim((-1,1))

plt.subplot(3,1,3)
librosa.display.waveshow(redhot_wav,alpha=0.5,color='b')
plt.title("Redhot wave form")
plt.ylim((-1,1))





frame_size = 1024
hop_length = 512
def calculate_amplitude_envelop(signal,frame_size,hop_length):
    amplitude_envelop = []
    # Use a frame to find max amplitude values
    for frame in range(0,len(signal), hop_length):
        max_amplitude = max(signal[frame:frame+frame_size])
        amplitude_envelop.append(max_amplitude)
    return np.array(amplitude_envelop)


debussy_ae = calculate_amplitude_envelop(debussy_wav,frame_size, hop_length)
len(debussy_ae)
duke_ae = calculate_amplitude_envelop(duke_wav,frame_size, hop_length)
redhot_ae = calculate_amplitude_envelop(redhot_wav,frame_size, hop_length)



# Visualize
# We need to get the time 
frames = range(0,len(debussy_ae))
t = librosa.frames_to_time(frames,hop_length=hop_length)

plt.figure(figsize=(15,17))
plt.subplot(3,1,1)
librosa.display.waveshow(debussy_wav,color='r',alpha=0.5)
plt.plot(t,debussy_ae)
plt.title("Debussy")
plt.ylim((-1,1))

plt.subplot(3,1,2)
librosa.display.waveshow(duke_wav,alpha=0.5,color='g')
plt.plot(t,duke_ae)
plt.title("Duke")
plt.ylim((-1,1))

plt.subplot(3,1,3)
librosa.display.waveshow(redhot_wav,alpha=0.5,color='b')
plt.plot(t,redhot_ae)
plt.title("Redhot")
plt.ylim((-1,1))






